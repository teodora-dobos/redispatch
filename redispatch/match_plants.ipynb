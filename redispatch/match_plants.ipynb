{
 "cells": [
  {
   "cell_type": "code",
   "execution_count": 2,
   "metadata": {},
   "outputs": [],
   "source": [
    "import pandas as pd\n",
    "from rapidfuzz import process, fuzz"
   ]
  },
  {
   "cell_type": "markdown",
   "metadata": {},
   "source": [
    "## Prepare data"
   ]
  },
  {
   "cell_type": "markdown",
   "metadata": {},
   "source": [
    "### Redispatch data"
   ]
  },
  {
   "cell_type": "markdown",
   "metadata": {},
   "source": [
    "The redispatch data can be downloaded from https://www.netztransparenz.de/de-de/Systemdienstleistungen/Betriebsfuehrung/Redispatch. "
   ]
  },
  {
   "cell_type": "code",
   "execution_count": 12,
   "metadata": {},
   "outputs": [],
   "source": [
    "redispatch_data = pd.read_csv('data/input/redispatch_data.csv', encoding='utf-8', sep=';')\n",
    "units = redispatch_data[['BETROFFENE_ANLAGE']].drop_duplicates()\n",
    "units = units.reset_index(drop=True)\n",
    "units.to_csv('data/input/redispatched_units.csv')"
   ]
  },
  {
   "cell_type": "markdown",
   "metadata": {},
   "source": [
    "### Conventional plants"
   ]
  },
  {
   "cell_type": "markdown",
   "metadata": {},
   "source": [
    "The list of conventional plants can be downloaded from https://data.open-power-system-data.org/conventional_power_plants/."
   ]
  },
  {
   "cell_type": "code",
   "execution_count": 13,
   "metadata": {},
   "outputs": [],
   "source": [
    "conventional_plants = pd.read_csv('data/input/conventional_power_plants_DE.csv')\n",
    "conventional_plants = conventional_plants[['name_bnetza', 'city', 'state', 'lat', 'lon']].drop_duplicates()\n",
    "conventional_plants = conventional_plants.reset_index(drop=True)\n",
    "conventional_plants.to_csv('data/input/filtered_conventional.csv')"
   ]
  },
  {
   "cell_type": "markdown",
   "metadata": {},
   "source": [
    "## Determine location coordinates "
   ]
  },
  {
   "cell_type": "markdown",
   "metadata": {},
   "source": [
    "### Fuzzy matching"
   ]
  },
  {
   "cell_type": "markdown",
   "metadata": {},
   "source": [
    "We consider fuzzy matching. FuzzyWuzzy is a library that uses Levenshtein distance to calculate the differences between strings. The Levenstein distance between two strings is defined as the minimum number of single-character edits (insertions, deletions, or substitutions) required to transform one string into the other."
   ]
  },
  {
   "cell_type": "code",
   "execution_count": 19,
   "metadata": {},
   "outputs": [],
   "source": [
    "df_plants = pd.read_csv(\"data/input/filtered_conventional.csv\")  \n",
    "df_red_units = pd.read_csv( \"data/input/redispatched_units.csv\") "
   ]
  },
  {
   "cell_type": "markdown",
   "metadata": {},
   "source": [
    "We want to find a match based on 3 columns from the dataframe containing power plants information."
   ]
  },
  {
   "cell_type": "code",
   "execution_count": 15,
   "metadata": {},
   "outputs": [],
   "source": [
    "choices = {}\n",
    "for col in ['name_bnetza', 'city', 'state']:\n",
    "    choices[col] = df_plants[col].dropna().unique()"
   ]
  },
  {
   "cell_type": "markdown",
   "metadata": {},
   "source": [
    "There are multiple possibilites to compare two strings, see, e.g., https://medium.com/@laxmi17sarki/string-matching-using-fuzzywuzzy-24be9e85c88d:\n",
    "- Ratio: pure Levenstein distance calculation\n",
    "- Partial ratio: considers subsets of the strings it compares, and then returns a ratio according to their similarities\n",
    "- Token sort ratio: ignores case, punctuation and order of the words (tokens) in the string\n",
    "- Weighted ratio: weights are applied based on the lengths of the strings\n",
    "\n",
    "We use the weighted ratio."
   ]
  },
  {
   "cell_type": "code",
   "execution_count": 20,
   "metadata": {},
   "outputs": [],
   "source": [
    "def find_best_match(row, column_name, threshold):\n",
    "    best_match = process.extractOne(row, choices[column_name], scorer=fuzz.WRatio)\n",
    "    if best_match and best_match[1] > threshold: \n",
    "        return best_match[0], best_match[1]\n",
    "    return None, float('-inf')"
   ]
  },
  {
   "cell_type": "code",
   "execution_count": 21,
   "metadata": {},
   "outputs": [],
   "source": [
    "def match(threshold=70):\n",
    "    matches = []\n",
    "    for anlage in df_red_units['BETROFFENE_ANLAGE']:\n",
    "        best_score, best_match, best_col = float('-inf'), None, None\n",
    "        for col in ['name_bnetza', 'city', 'state']:\n",
    "            match, score = find_best_match(anlage, col, threshold)\n",
    "            if match:\n",
    "                if score > best_score:\n",
    "                    best_score = score\n",
    "                    best_match = match\n",
    "                    best_col = col\n",
    "        matched_row = df_plants[df_plants[best_col] == best_match].iloc[0] if best_col else None\n",
    "        matches.append({\n",
    "            'BETROFFENE_ANLAGE': anlage,\n",
    "            'Matched_Column': best_col,\n",
    "            'Value': best_match,\n",
    "            'Score': best_score,\n",
    "            'Latitude': matched_row['lat'] if best_col else None,\n",
    "            'Longitude': matched_row['lon'] if best_col else None\n",
    "        })\n",
    "    \n",
    "    matched_df = pd.DataFrame(matches)\n",
    "    return matched_df"
   ]
  },
  {
   "cell_type": "markdown",
   "metadata": {},
   "source": [
    "We first set a threshold of 50."
   ]
  },
  {
   "cell_type": "code",
   "execution_count": 22,
   "metadata": {},
   "outputs": [
    {
     "name": "stdout",
     "output_type": "stream",
     "text": [
      "Total redispatched units: 338\n",
      "Matched redispatched units with threshold = 50: 310\n"
     ]
    }
   ],
   "source": [
    "threshold = 50\n",
    "print(f'Total redispatched units: {len(df_red_units)}')\n",
    "\n",
    "matched_df = match(threshold)\n",
    "matched_df = matched_df.sort_values(by=\"Score\", ascending=False).reset_index(drop=True)\n",
    "matched_df.to_csv(f\"data/output/fuzzy_matching_{threshold}.csv\")\n",
    "print(f'Matched redispatched units with threshold = {threshold}: {len(matched_df[~matched_df['Matched_Column'].isna()])}')"
   ]
  },
  {
   "cell_type": "markdown",
   "metadata": {},
   "source": [
    "#### Analyze results"
   ]
  },
  {
   "cell_type": "markdown",
   "metadata": {},
   "source": [
    "We analize the results and observe that the matches are not accurate as the score goes below ~88."
   ]
  },
  {
   "cell_type": "code",
   "execution_count": 23,
   "metadata": {},
   "outputs": [
    {
     "name": "stdout",
     "output_type": "stream",
     "text": [
      "Matched units with threshold 87: 164/338\n",
      "Unmatched units with threshold 87: 174/338\n"
     ]
    }
   ],
   "source": [
    "final_threshold = 87\n",
    "filtered_matched_df = matched_df[matched_df['Score'] > final_threshold].reset_index(drop=True)\n",
    "filtered_matched_df.to_csv(\"data/output/fuzzy_matching_final.csv\")\n",
    "\n",
    "unmatched_df = matched_df[matched_df['Score'] <= final_threshold].reset_index(drop=True)\n",
    "unmatched_df.to_csv(\"data/output/fuzzy_unmatched.csv\")\n",
    "\n",
    "print(f'Matched units with threshold {final_threshold}: {len(filtered_matched_df)}/{len(df_red_units)}')\n",
    "print(f'Unmatched units with threshold {final_threshold}: {len(unmatched_df)}/{len(df_red_units)}')\n"
   ]
  },
  {
   "cell_type": "markdown",
   "metadata": {},
   "source": [
    "### Manual matching"
   ]
  },
  {
   "cell_type": "code",
   "execution_count": 24,
   "metadata": {},
   "outputs": [
    {
     "name": "stdout",
     "output_type": "stream",
     "text": [
      "Manually matched units: 122/174\n"
     ]
    }
   ],
   "source": [
    "manually_matched = pd.read_excel('data/output/manually_matched.xlsx')\n",
    "print(f'Manually matched units: {len(manually_matched[~manually_matched['Value'].isna()])}/{len(unmatched_df)}')"
   ]
  },
  {
   "cell_type": "markdown",
   "metadata": {},
   "source": [
    "### Final results"
   ]
  },
  {
   "cell_type": "code",
   "execution_count": null,
   "metadata": {},
   "outputs": [],
   "source": [
    "fuzzy_matched = pd.read_csv('data/output/fuzzy_matching_final.csv')\n",
    "fuzzy_matched = fuzzy_matched.drop(columns=['Score', 'Matched_Column'])\n",
    "manually_match = pd.read_excel('data/output/manually_matched.xlsx')\n",
    "combined_matched = pd.concat([fuzzy_matched, manually_match], ignore_index=True)\n",
    "\n",
    "combined_matched.to_csv('data/output/geo_redispatched_units.csv')\n",
    "combined_matched.to_excel('data/output/geo_redispatched_units.xlsx')\n",
    "\n",
    "redispatch_data = redispatch_data.merge(combined_matched[['BETROFFENE_ANLAGE', 'Latitude', 'Longitude']], \n",
    "                on='BETROFFENE_ANLAGE', \n",
    "                how='left')\n",
    "redispatch_data.to_csv('data/output/geo_redispatch_data.csv')"
   ]
  }
 ],
 "metadata": {
  "kernelspec": {
   "display_name": ".venv",
   "language": "python",
   "name": "python3"
  },
  "language_info": {
   "codemirror_mode": {
    "name": "ipython",
    "version": 3
   },
   "file_extension": ".py",
   "mimetype": "text/x-python",
   "name": "python",
   "nbconvert_exporter": "python",
   "pygments_lexer": "ipython3",
   "version": "3.12.0"
  }
 },
 "nbformat": 4,
 "nbformat_minor": 2
}
