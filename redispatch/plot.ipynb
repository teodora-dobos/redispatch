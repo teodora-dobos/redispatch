{
 "cells": [
  {
   "cell_type": "code",
   "execution_count": 42,
   "metadata": {},
   "outputs": [],
   "source": [
    "import pandas as pd\n",
    "import folium\n",
    "import numpy as np"
   ]
  },
  {
   "cell_type": "markdown",
   "metadata": {},
   "source": [
    "### Geographic visualization of redispatch data for each day "
   ]
  },
  {
   "cell_type": "code",
   "execution_count": 44,
   "metadata": {},
   "outputs": [],
   "source": [
    "df_redispatch = pd.read_csv('data/output/geo_redispatch_data.csv')\n",
    "df_redispatch = df_redispatch[df_redispatch['GRUND_DER_MASSNAHME'] == 'Strombedingter Redispatch']\n",
    "days = df_redispatch['BEGINN_DATUM'].unique()\n",
    "\n",
    "translation = {'Wirkleistungseinspeisung reduzieren': 'downward', 'Wirkleistungseinspeisung erhöhen': 'upward', 'Wirkleistungseinspeisung erh¿hen': 'upward',\n",
    "               'Erneuerbar': 'RES', 'Konventionell': 'conventional', 'Sonstiges': 'others'}"
   ]
  },
  {
   "cell_type": "markdown",
   "metadata": {},
   "source": [
    "#### Unit information"
   ]
  },
  {
   "cell_type": "markdown",
   "metadata": {},
   "source": [
    "We first create a map that shows each redispatched unit and some details in a popup."
   ]
  },
  {
   "cell_type": "code",
   "execution_count": null,
   "metadata": {},
   "outputs": [],
   "source": [
    "for day in days:\n",
    "    print(day)\n",
    "    if day == '31.12.2023':\n",
    "        continue\n",
    "    germany_map = folium.Map(location=[51.1657, 10.4515], zoom_start=6)\n",
    "\n",
    "    df_day = df_redispatch[(df_redispatch['BEGINN_DATUM'] == day) & (~df_redispatch['Latitude'].isna()) & (~df_redispatch['Longitude'].isna())]\n",
    "\n",
    "    locations = [\n",
    "        {\"name\": row['BETROFFENE_ANLAGE'], \n",
    "         \"Latitude\": row['Latitude'], \n",
    "         \"Longitude\": row['Longitude'],\n",
    "         \"Richtung\": row['RICHTUNG'],\n",
    "         \"GESAMTE_ARBEIT_MWH\": row['GESAMTE_ARBEIT_MWH'],\n",
    "         \"PRIMAERENERGIEART\": row['PRIMAERENERGIEART']\n",
    "         }\n",
    "        for _, row in df_day.iterrows() \n",
    "    ]\n",
    "    \n",
    "    for loc in locations:\n",
    "        popup_content = f\"Unit: {loc['name']}<br>Direction: {translation.get(loc['Richtung'], loc['Richtung'])}<br>Quantity: {translation.get(loc['GESAMTE_ARBEIT_MWH'], loc['GESAMTE_ARBEIT_MWH'])} MWh<br>Type: {translation.get(loc['PRIMAERENERGIEART'], loc['PRIMAERENERGIEART'])}\"\n",
    "        folium.Marker(\n",
    "            location=[loc[\"Latitude\"], loc[\"Longitude\"]],\n",
    "            popup=folium.Popup(popup_content, max_width=300),\n",
    "            icon=folium.Icon(color=\"blue\", icon=\"info-sign\"),\n",
    "            # tooltip=f\"{loc['name']}\"\n",
    "        ).add_to(germany_map)\n",
    "    \n",
    "    germany_map.save(f\"data/maps/unit_info/{day}.html\")"
   ]
  },
  {
   "cell_type": "markdown",
   "metadata": {},
   "source": [
    "#### Unit information and type"
   ]
  },
  {
   "cell_type": "markdown",
   "metadata": {},
   "source": [
    "We can extend the map by indicating the type of each unit (green: renewable, red: conventional)."
   ]
  },
  {
   "cell_type": "code",
   "execution_count": null,
   "metadata": {},
   "outputs": [],
   "source": [
    "for day in days:\n",
    "    germany_map = folium.Map(location=[51.1657, 10.4515], zoom_start=6)\n",
    "\n",
    "    df_day = df_redispatch[(df_redispatch['BEGINN_DATUM'] == day) & (~df_redispatch['Latitude'].isna()) & (~df_redispatch['Longitude'].isna())]\n",
    "\n",
    "    locations = [\n",
    "        {\"name\": row['BETROFFENE_ANLAGE'], \n",
    "         \"Latitude\": row['Latitude'], \n",
    "         \"Longitude\": row['Longitude'],\n",
    "         \"Richtung\": row['RICHTUNG'],\n",
    "         \"GESAMTE_ARBEIT_MWH\": row['GESAMTE_ARBEIT_MWH'],\n",
    "         \"PRIMAERENERGIEART\": row['PRIMAERENERGIEART']\n",
    "         }\n",
    "        for _, row in df_day.iterrows() \n",
    "    ]\n",
    "\n",
    "    values = [float(loc['GESAMTE_ARBEIT_MWH'].replace(',', '.')) for loc in locations]\n",
    "    min_val, max_val = np.min(values), np.max(values)\n",
    "\n",
    "    for loc in locations:\n",
    "        gesamt_arbeit = float(loc['GESAMTE_ARBEIT_MWH'].replace(',', '.'))  \n",
    "        radius = 5 + (gesamt_arbeit - min_val) / (max_val - min_val) * (20 - 5)\n",
    "\n",
    "        popup_content = f\"Unit: {loc['name']}<br>Direction: {translation.get(loc['Richtung'], loc['Richtung'])}<br>Quantity: {translation.get(loc['GESAMTE_ARBEIT_MWH'], loc['GESAMTE_ARBEIT_MWH'])} MWh<br>Type: {translation.get(loc['PRIMAERENERGIEART'], loc['PRIMAERENERGIEART'])}\"\n",
    "\n",
    "        folium.CircleMarker(\n",
    "            location=[loc[\"Latitude\"], loc[\"Longitude\"]],\n",
    "            radius=radius,\n",
    "            color=\"green\" if loc['PRIMAERENERGIEART'] == \"Erneuerbar\" else \"red\",\n",
    "            fill=True,\n",
    "            fill_opacity=0.7,\n",
    "            popup=folium.Popup(popup_content, max_width=300)  \n",
    "        ).add_to(germany_map)\n",
    "        \n",
    "    germany_map.save(f\"data/maps/unit/{day}.html\")\n"
   ]
  },
  {
   "cell_type": "markdown",
   "metadata": {},
   "source": [
    "#### Redispatch direction"
   ]
  },
  {
   "cell_type": "markdown",
   "metadata": {},
   "source": [
    "Alternatively, we can indicate whether the units was downward (blue) or upward (orange) redispatched."
   ]
  },
  {
   "cell_type": "code",
   "execution_count": null,
   "metadata": {},
   "outputs": [],
   "source": [
    "for day in days:\n",
    "    germany_map = folium.Map(location=[51.1657, 10.4515], zoom_start=6)\n",
    "\n",
    "    df_day = df_redispatch[(df_redispatch['BEGINN_DATUM'] == day) & (~df_redispatch['Latitude'].isna()) & (~df_redispatch['Longitude'].isna())]\n",
    "\n",
    "    locations = [\n",
    "        {\"name\": row['BETROFFENE_ANLAGE'], \n",
    "         \"Latitude\": row['Latitude'], \n",
    "         \"Longitude\": row['Longitude'],\n",
    "         \"Richtung\": row['RICHTUNG'],\n",
    "         \"GESAMTE_ARBEIT_MWH\": row['GESAMTE_ARBEIT_MWH'],\n",
    "         \"PRIMAERENERGIEART\": row['PRIMAERENERGIEART']\n",
    "         }\n",
    "        for _, row in df_day.iterrows() \n",
    "    ]\n",
    "\n",
    "    values = [float(loc['GESAMTE_ARBEIT_MWH'].replace(',', '.')) for loc in locations]\n",
    "    min_val, max_val = np.min(values), np.max(values)\n",
    "\n",
    "    for loc in locations:\n",
    "        gesamt_arbeit = float(loc['GESAMTE_ARBEIT_MWH'].replace(',', '.'))  \n",
    "        radius = 5 + (gesamt_arbeit - min_val) / (max_val - min_val) * (20 - 5)\n",
    "\n",
    "        popup_content = f\"Unit: {loc['name']}<br>Direction: {translation.get(loc['Richtung'], loc['Richtung'])}<br>Quantity: {translation.get(loc['GESAMTE_ARBEIT_MWH'], loc['GESAMTE_ARBEIT_MWH'])} MWh<br>Type: {translation.get(loc['PRIMAERENERGIEART'], loc['PRIMAERENERGIEART'])}\"\n",
    "\n",
    "        folium.CircleMarker(\n",
    "            location=[loc[\"Latitude\"], loc[\"Longitude\"]],\n",
    "            radius=radius,\n",
    "            color=\"orange\" if loc['Richtung'] in ['Wirkleistungseinspeisung erhöhen', 'Wirkleistungseinspeisung erh¿hen'] else \"blue\",\n",
    "            fill=True,\n",
    "            fill_opacity=0.7,\n",
    "            popup=folium.Popup(popup_content, max_width=300) \n",
    "        ).add_to(germany_map)\n",
    "        \n",
    "    germany_map.save(f\"data/maps/unit_direction/{day}.html\")\n"
   ]
  }
 ],
 "metadata": {
  "kernelspec": {
   "display_name": ".venv",
   "language": "python",
   "name": "python3"
  },
  "language_info": {
   "codemirror_mode": {
    "name": "ipython",
    "version": 3
   },
   "file_extension": ".py",
   "mimetype": "text/x-python",
   "name": "python",
   "nbconvert_exporter": "python",
   "pygments_lexer": "ipython3",
   "version": "3.12.0"
  }
 },
 "nbformat": 4,
 "nbformat_minor": 2
}
